{
  "cells": [
    {
      "cell_type": "markdown",
      "metadata": {
        "id": "view-in-github",
        "colab_type": "text"
      },
      "source": [
        "<a href=\"https://colab.research.google.com/github/koch-inari/hello-world/blob/master/python_intro_basic_3hour.ipynb\" target=\"_parent\"><img src=\"https://colab.research.google.com/assets/colab-badge.svg\" alt=\"Open In Colab\"/></a>"
      ]
    },
    {
      "cell_type": "code",
      "execution_count": null,
      "metadata": {
        "colab": {
          "base_uri": "https://localhost:8080/"
        },
        "id": "mw-I03He7q8t",
        "outputId": "d7194851-0250-41d5-8070-83ba122c9095"
      },
      "outputs": [
        {
          "name": "stdout",
          "output_type": "stream",
          "text": [
            "Pythonを楽しもう！\n"
          ]
        }
      ],
      "source": [
        "print(\"Pythonを楽しもう！\")"
      ]
    },
    {
      "cell_type": "code",
      "execution_count": null,
      "metadata": {
        "colab": {
          "base_uri": "https://localhost:8080/"
        },
        "id": "Ml5sGTD79r-E",
        "outputId": "0e425c04-9df2-45a2-f916-402e32a88f1f"
      },
      "outputs": [
        {
          "name": "stdout",
          "output_type": "stream",
          "text": [
            "始業\n",
            "授業\n",
            "授業\n",
            "授業\n",
            "授業\n",
            "授業\n",
            "授業\n",
            "終業\n"
          ]
        }
      ],
      "source": [
        "print(\"始業\")\n",
        "for i in range(6):\n",
        "  print(\"授業\")\n",
        "print(\"終業\")"
      ]
    },
    {
      "cell_type": "code",
      "execution_count": null,
      "metadata": {
        "colab": {
          "base_uri": "https://localhost:8080/"
        },
        "id": "6RKk14XY-M7Z",
        "outputId": "4e4f92ec-5d71-4c78-b2e7-cb514012de37"
      },
      "outputs": [
        {
          "name": "stdout",
          "output_type": "stream",
          "text": [
            "Python を楽しもう！\n",
            "大文字・小文字に気をつけよう\n",
            "PEP8は標準コーディングスタイルです\n"
          ]
        }
      ],
      "source": [
        "# 文字列を表示するプログラム\n",
        "# 03comment.py\n",
        "\n",
        "print(\"Python\", \"を楽しもう！\")\n",
        "print(\"大文字・小文字に気をつけよう\")\n",
        "print(\"PEP8は標準コーディングスタイルです\")"
      ]
    },
    {
      "cell_type": "code",
      "execution_count": null,
      "metadata": {
        "colab": {
          "base_uri": "https://localhost:8080/"
        },
        "id": "qN9mVntNRMRt",
        "outputId": "0cec52b3-80a2-4354-a952-bb87b7f814b8"
      },
      "outputs": [
        {
          "name": "stdout",
          "output_type": "stream",
          "text": [
            "16 歳です\n",
            "num:  20\n",
            "num:  30\n"
          ]
        }
      ],
      "source": [
        "# 04変数\n",
        "age = 16\n",
        "print(age, \"歳です\")\n",
        "\n",
        "num = 20\n",
        "print(\"num: \", num)\n",
        "\n",
        "num = num + 10\n",
        "print(\"num: \", num)\n"
      ]
    },
    {
      "cell_type": "code",
      "execution_count": null,
      "metadata": {
        "colab": {
          "base_uri": "https://localhost:8080/"
        },
        "id": "vwO_dlXQTLqX",
        "outputId": "b744bf4f-8179-458c-a6a3-e81d48250ab6"
      },
      "outputs": [
        {
          "name": "stdout",
          "output_type": "stream",
          "text": [
            "整数 :  123456789012345678901234567890\n",
            "浮動小数点数 :  1.2345678901234567\n",
            "文字列 :  Python楽しい！\n",
            "真偽値 :  True\n",
            "int(3.14) :  3\n",
            "float(10) :  10.0\n",
            "str(True) :  True\n",
            "bool(1) :  True\n",
            "bool(0.0) :  False\n"
          ]
        }
      ],
      "source": [
        "#05 データ型\n",
        "print(\"整数 : \", 123456789012345678901234567890)\n",
        "print(\"浮動小数点数 : \", 1.2345678901234567890)\n",
        "print(\"文字列 : \", 'Python楽しい！')\n",
        "print(\"真偽値 : \", True)\n",
        "\n",
        "print(\"int(3.14) : \", int(3.14))\n",
        "print(\"float(10) : \", float(10))\n",
        "print(\"str(True) : \", str(True))\n",
        "print(\"bool(1) : \", bool(1))\n",
        "print(\"bool(0.0) : \", bool(0.0))\n",
        "\n",
        "# print(\"int('abc') : \", int('abc'))\n"
      ]
    },
    {
      "cell_type": "code",
      "execution_count": 7,
      "metadata": {
        "colab": {
          "base_uri": "https://localhost:8080/"
        },
        "id": "02u3SD4Q92WV",
        "outputId": "86b7a8e1-b3a2-4420-eb7f-ee9866ca444b"
      },
      "outputs": [
        {
          "output_type": "stream",
          "name": "stdout",
          "text": [
            "msg    -> ['勉強は', '大変だけど']\n",
            "append -> ['勉強は', '大変だけど', '前に進もう！']\n",
            "remove -> ['勉強は', '前に進もう！']\n",
            "insert -> ['勉強は', '楽しい！さあ', '前に進もう！']\n",
            "clear  -> []\n"
          ]
        }
      ],
      "source": [
        "#06 配列\n",
        "\n",
        "msg = [\"勉強は\", \"大変だけど\"]\n",
        "print(\"msg    ->\", msg)\n",
        "\n",
        "msg.append(\"前に進もう！\")\n",
        "print(\"append ->\", msg)\n",
        "\n",
        "msg.remove(\"大変だけど\")\n",
        "print(\"remove ->\", msg)\n",
        "\n",
        "msg.insert(1, \"楽しい！さあ\")\n",
        "print(\"insert ->\", msg)\n",
        "\n",
        "msg.clear()\n",
        "print(\"clear  ->\", msg)\n",
        "\n"
      ]
    },
    {
      "cell_type": "code",
      "source": [
        "#07 演算子\n",
        "\n",
        "s1 = input(\"aの値を入力してください > \")\n",
        "s2 = input(\"bの値を入力してください > \")\n",
        "\n",
        "print(\"s1 + s2 =\", (s1+s2))\n",
        "\n",
        "a = int(s1)\n",
        "b = int(s2)\n",
        "\n",
        "print(\"a =\", a, \", b =\", b)\n",
        "print(\"a + b =\", (a + b))\n",
        "print(\"a - b =\", (a - b))\n",
        "print(\"a * b =\", (a * b))\n",
        "print(\"a ** b =\", (a ** b))\n",
        "print(\"a / b =\", (a / b))\n",
        "print(\"a // b =\", (a // b))\n",
        "print(\"a % b =\", (a % b))\n",
        "\n",
        "print(\"a >= 0 :\", (a >= 0))\n",
        "print(\"a >= 0 and b >= 0 :\", ((a >= 0) and (b >= 0)))"
      ],
      "metadata": {
        "colab": {
          "base_uri": "https://localhost:8080/"
        },
        "id": "SGoa64NKzNlb",
        "outputId": "be8fb644-271e-40c7-c78f-6a2f7da20b0c"
      },
      "execution_count": 15,
      "outputs": [
        {
          "output_type": "stream",
          "name": "stdout",
          "text": [
            "aの値を入力してください > 7\n",
            "bの値を入力してください > -2\n",
            "s1 + s2 = 7-2\n",
            "a = 7 , b = -2\n",
            "a + b = 5\n",
            "a - b = 9\n",
            "a * b = -14\n",
            "a ** b = 0.02040816326530612\n",
            "a / b = -3.5\n",
            "a // b = -4\n",
            "a % b = -1\n",
            "a >= 0 : True\n",
            "a >= 0 and b >= 0 : False\n"
          ]
        }
      ]
    },
    {
      "cell_type": "code",
      "source": [
        "#08 分岐処理\n",
        "\n",
        "price_str = input(\"金額を入力してください > \")\n",
        "rate = 0.10\n",
        "price = int(price_str)\n",
        "\n",
        "if price >= 5000:\n",
        "    discount = 500\n",
        "elif price >= 3000:\n",
        "    discount = 300\n",
        "else:\n",
        "    discount = 0\n",
        "\n",
        "amount = int((price - discount) * (1 + rate))\n",
        "print(\"定価　　 :\", price, \"円\")\n",
        "print(\"値引金額 :\", discount, \"円\")\n",
        "print(\"税込金額 :\", amount, \"円\")\n",
        "\n"
      ],
      "metadata": {
        "colab": {
          "base_uri": "https://localhost:8080/"
        },
        "id": "WarX4PjR1lEt",
        "outputId": "28098ad9-ab1c-4b88-a0c5-1e0661d5601e"
      },
      "execution_count": 32,
      "outputs": [
        {
          "output_type": "stream",
          "name": "stdout",
          "text": [
            "金額を入力してください > 2000\n",
            "定価　　 : 2000 円\n",
            "値引金額 : 0 円\n",
            "税込金額 : 2200 円\n"
          ]
        }
      ]
    },
    {
      "cell_type": "code",
      "source": [
        "#09-1 反復処理\n",
        "\n",
        "num = [0, 1, 2]\n",
        "for i in num:\n",
        "    print(\"i =\", i)\n",
        "\n",
        "for j in range(3):\n",
        "    print(\"j =\", j)\n",
        "\n",
        "k = 0\n",
        "while k < 3:\n",
        "    print(\"k =\", k)\n",
        "    k = k + 1"
      ],
      "metadata": {
        "colab": {
          "base_uri": "https://localhost:8080/"
        },
        "id": "1F2uHrPcpDgq",
        "outputId": "bcfea246-9d7e-47d5-d696-7eee1fc8a83d"
      },
      "execution_count": 38,
      "outputs": [
        {
          "output_type": "stream",
          "name": "stdout",
          "text": [
            "i = 0\n",
            "i = 1\n",
            "i = 2\n",
            "j = 0\n",
            "j = 1\n",
            "j = 2\n",
            "k = 0\n",
            "k = 1\n",
            "k = 2\n"
          ]
        }
      ]
    },
    {
      "cell_type": "code",
      "source": [
        "#09-2 反復処理\n",
        "\n",
        "sub_name = [\"英語\", \"数学\", \"国語\" ]\n",
        "score = [90, 85, 80]\n",
        "sum_score = 0\n",
        "\n",
        "for i in range(3):\n",
        "    print(sub_name[i], \" : \", score[i], \"点\")\n",
        "    sum_score = sum_score + score[i]\n",
        "\n",
        "ave = sum_score / 3\n",
        "print(\"合計  : \", sum_score, \"点\")\n",
        "print(\"平均  : \", ave, \"点\")"
      ],
      "metadata": {
        "colab": {
          "base_uri": "https://localhost:8080/"
        },
        "id": "95rcvSptI56R",
        "outputId": "98c013d7-6c48-4eb9-f199-23b2fab31cdc"
      },
      "execution_count": 43,
      "outputs": [
        {
          "output_type": "stream",
          "name": "stdout",
          "text": [
            "英語  :  90 点\n",
            "数学  :  85 点\n",
            "国語  :  80 点\n",
            "合計  :  255 点\n",
            "平均  :  85.0 点\n"
          ]
        }
      ]
    },
    {
      "cell_type": "code",
      "source": [
        "#10 関数\n",
        "\n"
      ],
      "metadata": {
        "id": "pGRhyatWL6Ny"
      },
      "execution_count": null,
      "outputs": []
    },
    {
      "cell_type": "code",
      "source": [
        "\"\""
      ],
      "metadata": {
        "id": "Zfyj-1vWJ2nZ"
      },
      "execution_count": null,
      "outputs": []
    }
  ],
  "metadata": {
    "colab": {
      "provenance": [],
      "authorship_tag": "ABX9TyN4YsIPMQhp6mTPBxU4A/Ve",
      "include_colab_link": true
    },
    "kernelspec": {
      "display_name": "Python 3",
      "name": "python3"
    },
    "language_info": {
      "name": "python"
    }
  },
  "nbformat": 4,
  "nbformat_minor": 0
}